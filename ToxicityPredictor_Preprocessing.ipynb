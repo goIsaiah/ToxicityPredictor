{
 "cells": [
  {
   "cell_type": "markdown",
   "id": "5d563fe8",
   "metadata": {},
   "source": [
    "# Preprocessing Data for ToxicityPredictor"
   ]
  },
  {
   "cell_type": "code",
   "execution_count": 1,
   "id": "d4647fc2",
   "metadata": {},
   "outputs": [
    {
     "name": "stdout",
     "output_type": "stream",
     "text": [
      "Defaulting to user installation because normal site-packages is not writeable\n",
      "Requirement already satisfied: rdkit in c:\\users\\goisa\\appdata\\roaming\\python\\python312\\site-packages (2025.9.1)\n",
      "Requirement already satisfied: numpy in c:\\users\\goisa\\appdata\\roaming\\python\\python312\\site-packages (from rdkit) (2.2.2)\n",
      "Requirement already satisfied: Pillow in c:\\users\\goisa\\appdata\\roaming\\python\\python312\\site-packages (from rdkit) (11.1.0)\n",
      "Note: you may need to restart the kernel to use updated packages.\n"
     ]
    },
    {
     "name": "stderr",
     "output_type": "stream",
     "text": [
      "\n",
      "[notice] A new release of pip is available: 24.2 -> 25.2\n",
      "[notice] To update, run: python.exe -m pip install --upgrade pip\n"
     ]
    },
    {
     "name": "stdout",
     "output_type": "stream",
     "text": [
      "Defaulting to user installation because normal site-packages is not writeable\n",
      "Requirement already satisfied: scikit-learn in c:\\users\\goisa\\appdata\\roaming\\python\\python312\\site-packages (1.7.2)\n",
      "Requirement already satisfied: numpy>=1.22.0 in c:\\users\\goisa\\appdata\\roaming\\python\\python312\\site-packages (from scikit-learn) (2.2.2)\n",
      "Requirement already satisfied: scipy>=1.8.0 in c:\\users\\goisa\\appdata\\roaming\\python\\python312\\site-packages (from scikit-learn) (1.16.2)\n",
      "Requirement already satisfied: joblib>=1.2.0 in c:\\users\\goisa\\appdata\\roaming\\python\\python312\\site-packages (from scikit-learn) (1.5.2)\n",
      "Requirement already satisfied: threadpoolctl>=3.1.0 in c:\\users\\goisa\\appdata\\roaming\\python\\python312\\site-packages (from scikit-learn) (3.6.0)\n",
      "Note: you may need to restart the kernel to use updated packages.\n"
     ]
    },
    {
     "name": "stderr",
     "output_type": "stream",
     "text": [
      "\n",
      "[notice] A new release of pip is available: 24.2 -> 25.2\n",
      "[notice] To update, run: python.exe -m pip install --upgrade pip\n"
     ]
    }
   ],
   "source": [
    "%pip install rdkit\n",
    "%pip install scikit-learn"
   ]
  },
  {
   "cell_type": "code",
   "execution_count": 2,
   "id": "b72523dc",
   "metadata": {},
   "outputs": [],
   "source": [
    "import pandas as pd\n",
    "from rdkit import Chem\n",
    "from rdkit.Chem import Draw\n",
    "import os\n",
    "import numpy as np\n",
    "from sklearn.model_selection import train_test_split\n",
    "import pickle"
   ]
  },
  {
   "cell_type": "code",
   "execution_count": 3,
   "id": "83c7e15e",
   "metadata": {},
   "outputs": [],
   "source": [
    "CONFIG = {\n",
    "    'dataset_path': './tox21.csv.gz',\n",
    "    'output_dir': './processed_tox21',\n",
    "    'test_size': 0.1,\n",
    "    'validation_size': 0.1,\n",
    "    'seed': 1\n",
    "}\n",
    "\n",
    "os.makedirs(CONFIG['output_dir'], exist_ok=True)"
   ]
  },
  {
   "cell_type": "code",
   "execution_count": 4,
   "id": "5d0bf6c7",
   "metadata": {},
   "outputs": [
    {
     "name": "stdout",
     "output_type": "stream",
     "text": [
      "(7831, 14)\n"
     ]
    },
    {
     "data": {
      "text/html": [
       "<div>\n",
       "<style scoped>\n",
       "    .dataframe tbody tr th:only-of-type {\n",
       "        vertical-align: middle;\n",
       "    }\n",
       "\n",
       "    .dataframe tbody tr th {\n",
       "        vertical-align: top;\n",
       "    }\n",
       "\n",
       "    .dataframe thead th {\n",
       "        text-align: right;\n",
       "    }\n",
       "</style>\n",
       "<table border=\"1\" class=\"dataframe\">\n",
       "  <thead>\n",
       "    <tr style=\"text-align: right;\">\n",
       "      <th></th>\n",
       "      <th>NR-AR</th>\n",
       "      <th>NR-AR-LBD</th>\n",
       "      <th>NR-AhR</th>\n",
       "      <th>NR-Aromatase</th>\n",
       "      <th>NR-ER</th>\n",
       "      <th>NR-ER-LBD</th>\n",
       "      <th>NR-PPAR-gamma</th>\n",
       "      <th>SR-ARE</th>\n",
       "      <th>SR-ATAD5</th>\n",
       "      <th>SR-HSE</th>\n",
       "      <th>SR-MMP</th>\n",
       "      <th>SR-p53</th>\n",
       "      <th>mol_id</th>\n",
       "      <th>smiles</th>\n",
       "    </tr>\n",
       "  </thead>\n",
       "  <tbody>\n",
       "    <tr>\n",
       "      <th>0</th>\n",
       "      <td>0.0</td>\n",
       "      <td>0.0</td>\n",
       "      <td>1.0</td>\n",
       "      <td>NaN</td>\n",
       "      <td>NaN</td>\n",
       "      <td>0.0</td>\n",
       "      <td>0.0</td>\n",
       "      <td>1.0</td>\n",
       "      <td>0.0</td>\n",
       "      <td>0.0</td>\n",
       "      <td>0.0</td>\n",
       "      <td>0.0</td>\n",
       "      <td>TOX3021</td>\n",
       "      <td>CCOc1ccc2nc(S(N)(=O)=O)sc2c1</td>\n",
       "    </tr>\n",
       "    <tr>\n",
       "      <th>1</th>\n",
       "      <td>0.0</td>\n",
       "      <td>0.0</td>\n",
       "      <td>0.0</td>\n",
       "      <td>0.0</td>\n",
       "      <td>0.0</td>\n",
       "      <td>0.0</td>\n",
       "      <td>0.0</td>\n",
       "      <td>NaN</td>\n",
       "      <td>0.0</td>\n",
       "      <td>NaN</td>\n",
       "      <td>0.0</td>\n",
       "      <td>0.0</td>\n",
       "      <td>TOX3020</td>\n",
       "      <td>CCN1C(=O)NC(c2ccccc2)C1=O</td>\n",
       "    </tr>\n",
       "    <tr>\n",
       "      <th>2</th>\n",
       "      <td>NaN</td>\n",
       "      <td>NaN</td>\n",
       "      <td>NaN</td>\n",
       "      <td>NaN</td>\n",
       "      <td>NaN</td>\n",
       "      <td>NaN</td>\n",
       "      <td>NaN</td>\n",
       "      <td>0.0</td>\n",
       "      <td>NaN</td>\n",
       "      <td>0.0</td>\n",
       "      <td>NaN</td>\n",
       "      <td>NaN</td>\n",
       "      <td>TOX3024</td>\n",
       "      <td>CC[C@]1(O)CC[C@H]2[C@@H]3CCC4=CCCC[C@@H]4[C@H]...</td>\n",
       "    </tr>\n",
       "    <tr>\n",
       "      <th>3</th>\n",
       "      <td>0.0</td>\n",
       "      <td>0.0</td>\n",
       "      <td>0.0</td>\n",
       "      <td>0.0</td>\n",
       "      <td>0.0</td>\n",
       "      <td>0.0</td>\n",
       "      <td>0.0</td>\n",
       "      <td>NaN</td>\n",
       "      <td>0.0</td>\n",
       "      <td>NaN</td>\n",
       "      <td>0.0</td>\n",
       "      <td>0.0</td>\n",
       "      <td>TOX3027</td>\n",
       "      <td>CCCN(CC)C(CC)C(=O)Nc1c(C)cccc1C</td>\n",
       "    </tr>\n",
       "    <tr>\n",
       "      <th>4</th>\n",
       "      <td>0.0</td>\n",
       "      <td>0.0</td>\n",
       "      <td>0.0</td>\n",
       "      <td>0.0</td>\n",
       "      <td>0.0</td>\n",
       "      <td>0.0</td>\n",
       "      <td>0.0</td>\n",
       "      <td>0.0</td>\n",
       "      <td>0.0</td>\n",
       "      <td>0.0</td>\n",
       "      <td>0.0</td>\n",
       "      <td>0.0</td>\n",
       "      <td>TOX20800</td>\n",
       "      <td>CC(O)(P(=O)(O)O)P(=O)(O)O</td>\n",
       "    </tr>\n",
       "  </tbody>\n",
       "</table>\n",
       "</div>"
      ],
      "text/plain": [
       "   NR-AR  NR-AR-LBD  NR-AhR  NR-Aromatase  NR-ER  NR-ER-LBD  NR-PPAR-gamma  \\\n",
       "0    0.0        0.0     1.0           NaN    NaN        0.0            0.0   \n",
       "1    0.0        0.0     0.0           0.0    0.0        0.0            0.0   \n",
       "2    NaN        NaN     NaN           NaN    NaN        NaN            NaN   \n",
       "3    0.0        0.0     0.0           0.0    0.0        0.0            0.0   \n",
       "4    0.0        0.0     0.0           0.0    0.0        0.0            0.0   \n",
       "\n",
       "   SR-ARE  SR-ATAD5  SR-HSE  SR-MMP  SR-p53    mol_id  \\\n",
       "0     1.0       0.0     0.0     0.0     0.0   TOX3021   \n",
       "1     NaN       0.0     NaN     0.0     0.0   TOX3020   \n",
       "2     0.0       NaN     0.0     NaN     NaN   TOX3024   \n",
       "3     NaN       0.0     NaN     0.0     0.0   TOX3027   \n",
       "4     0.0       0.0     0.0     0.0     0.0  TOX20800   \n",
       "\n",
       "                                              smiles  \n",
       "0                       CCOc1ccc2nc(S(N)(=O)=O)sc2c1  \n",
       "1                          CCN1C(=O)NC(c2ccccc2)C1=O  \n",
       "2  CC[C@]1(O)CC[C@H]2[C@@H]3CCC4=CCCC[C@@H]4[C@H]...  \n",
       "3                    CCCN(CC)C(CC)C(=O)Nc1c(C)cccc1C  \n",
       "4                          CC(O)(P(=O)(O)O)P(=O)(O)O  "
      ]
     },
     "execution_count": 4,
     "metadata": {},
     "output_type": "execute_result"
    }
   ],
   "source": [
    "df = pd.read_csv(\"tox21.csv.gz\")\n",
    "print(df.shape)\n",
    "df.head()"
   ]
  },
  {
   "cell_type": "markdown",
   "id": "14975981",
   "metadata": {},
   "source": [
    "Test to see visualization of molecules"
   ]
  },
  {
   "cell_type": "code",
   "execution_count": 5,
   "id": "a9a86849",
   "metadata": {},
   "outputs": [
    {
     "data": {
      "image/png": "[encoded data removed]",
      "text/plain": [
       "<IPython.core.display.Image object>"
      ]
     },
     "execution_count": 5,
     "metadata": {},
     "output_type": "execute_result"
    }
   ],
   "source": [
    "mols = [Chem.MolFromSmiles(smi) for smi in df['smiles'].head(5)]\n",
    "Draw.MolsToGridImage(mols, molsPerRow=5, subImgSize=(150,150))"
   ]
  },
  {
   "cell_type": "markdown",
   "id": "6704792d",
   "metadata": {},
   "source": [
    "Dataset Structure Analysis"
   ]
  },
  {
   "cell_type": "code",
   "execution_count": 6,
   "id": "79897f64",
   "metadata": {},
   "outputs": [
    {
     "name": "stdout",
     "output_type": "stream",
     "text": [
      "Columns: ['NR-AR', 'NR-AR-LBD', 'NR-AhR', 'NR-Aromatase', 'NR-ER', 'NR-ER-LBD', 'NR-PPAR-gamma', 'SR-ARE', 'SR-ATAD5', 'SR-HSE', 'SR-MMP', 'SR-p53', 'mol_id', 'smiles']\n",
      "Found 12 label columns: ['NR-AR', 'NR-AR-LBD', 'NR-AhR', 'NR-Aromatase', 'NR-ER', 'NR-ER-LBD', 'NR-PPAR-gamma', 'SR-ARE', 'SR-ATAD5', 'SR-HSE', 'SR-MMP', 'SR-p53']\n"
     ]
    }
   ],
   "source": [
    "print(\"Columns:\", list(df.columns))\n",
    "label_cols = [c for c in df.columns if c not in ['smiles', 'mol_id']]\n",
    "print(f\"Found {len(label_cols)} label columns:\", label_cols)"
   ]
  },
  {
   "cell_type": "code",
   "execution_count": 7,
   "id": "28690a52",
   "metadata": {},
   "outputs": [
    {
     "name": "stdout",
     "output_type": "stream",
     "text": [
      "Fraction of missing values per label:\n",
      "NR-AR            0.072\n",
      "NR-AR-LBD        0.137\n",
      "NR-AhR           0.164\n",
      "NR-Aromatase     0.257\n",
      "NR-ER            0.209\n",
      "NR-ER-LBD        0.112\n",
      "NR-PPAR-gamma    0.176\n",
      "SR-ARE           0.255\n",
      "SR-ATAD5         0.097\n",
      "SR-HSE           0.174\n",
      "SR-MMP           0.258\n",
      "SR-p53           0.135\n",
      "dtype: float64\n"
     ]
    }
   ],
   "source": [
    "nan_ratio = df[label_cols].isna().mean().round(3)\n",
    "print(\"Fraction of missing values per label:\")\n",
    "print(nan_ratio)"
   ]
  },
  {
   "cell_type": "markdown",
   "id": "3c6c0da0",
   "metadata": {},
   "source": [
    "Remove invalid molecules by validating SMILES"
   ]
  },
  {
   "cell_type": "code",
   "execution_count": 8,
   "id": "554b4fa9",
   "metadata": {},
   "outputs": [
    {
     "name": "stderr",
     "output_type": "stream",
     "text": [
      "[11:31:43] WARNING: not removing hydrogen atom without neighbors\n",
      "[11:31:43] Explicit valence for atom # 8 Al, 6, is greater than permitted\n",
      "[11:31:44] Explicit valence for atom # 3 Al, 6, is greater than permitted\n",
      "[11:31:44] Explicit valence for atom # 4 Al, 6, is greater than permitted\n",
      "[11:31:44] Explicit valence for atom # 4 Al, 6, is greater than permitted\n",
      "[11:31:44] Explicit valence for atom # 9 Al, 6, is greater than permitted\n",
      "[11:31:44] Explicit valence for atom # 5 Al, 6, is greater than permitted\n",
      "[11:31:45] Explicit valence for atom # 16 Al, 6, is greater than permitted\n",
      "[11:31:45] Explicit valence for atom # 20 Al, 6, is greater than permitted\n"
     ]
    },
    {
     "name": "stdout",
     "output_type": "stream",
     "text": [
      "7823 valid molecules out of 7831\n"
     ]
    }
   ],
   "source": [
    "valid_smiles = []\n",
    "valid_labels = []\n",
    "\n",
    "for _, row in df.iterrows():\n",
    "    smile = row['smiles']\n",
    "    molecule = Chem.MolFromSmiles(smile)\n",
    "    if molecule is None:\n",
    "        continue # skips invalid molecule\n",
    "    labels = row[label_cols].to_numpy(dtype=float)\n",
    "    valid_smiles.append(smile)\n",
    "    valid_labels.append(labels)\n",
    "\n",
    "valid_smiles = np.array(valid_smiles)\n",
    "valid_labels = np.vstack(valid_labels)\n",
    "print(f\"{len(valid_smiles)} valid molecules out of {len(df)}\")"
   ]
  },
  {
   "cell_type": "code",
   "execution_count": 9,
   "id": "3ad01992",
   "metadata": {},
   "outputs": [
    {
     "name": "stdout",
     "output_type": "stream",
     "text": [
      "7823 molecules left after removing unlabelled samples\n"
     ]
    }
   ],
   "source": [
    "mask = ~np.all(np.isnan(valid_labels), axis=1)\n",
    "valid_smiles = valid_smiles[mask]\n",
    "valid_labels = valid_labels[mask]\n",
    "print(f\"{len(valid_smiles)} molecules left after removing unlabelled samples\")"
   ]
  },
  {
   "cell_type": "markdown",
   "id": "dfaf9c1e",
   "metadata": {},
   "source": [
    "Creating stratified splits, so training, validation, and testing sets have the same ratio of toxic to non-toxic molecules"
   ]
  },
  {
   "cell_type": "code",
   "execution_count": 10,
   "id": "34e35b50",
   "metadata": {},
   "outputs": [
    {
     "name": "stdout",
     "output_type": "stream",
     "text": [
      "Train: 6258 | Validation: 782 | Test: 783\n"
     ]
    }
   ],
   "source": [
    "# This turns all NaN labels to 0\n",
    "stratify_label = np.nan_to_num(valid_labels, nan=0).max(axis=1)\n",
    "\n",
    "x_train, x_temp, y_train, y_temp = train_test_split(\n",
    "    valid_smiles, valid_labels,\n",
    "    test_size=CONFIG['validation_size'] + CONFIG['test_size'],\n",
    "    stratify=stratify_label,\n",
    "    random_state=CONFIG['seed']\n",
    ")\n",
    "\n",
    "rel_test_size = CONFIG['test_size'] / (CONFIG['validation_size'] + CONFIG['test_size'])\n",
    "x_val, x_test, y_val, y_test = train_test_split(\n",
    "    x_temp, y_temp,\n",
    "    test_size = rel_test_size,\n",
    "    random_state = CONFIG['seed']\n",
    ")\n",
    "\n",
    "print(f\"Train: {len(x_train)} | Validation: {len(x_val)} | Test: {len(x_test)}\")"
   ]
  },
  {
   "cell_type": "markdown",
   "id": "7ff9ef3c",
   "metadata": {},
   "source": [
    "Save processed splits to file for usage"
   ]
  },
  {
   "cell_type": "code",
   "execution_count": 11,
   "id": "4e3f28a7",
   "metadata": {},
   "outputs": [],
   "source": [
    "def save_split(name, smiles, labels):\n",
    "    path = os.path.join(CONFIG['output_dir'], f'tox21_{name}.pkl')\n",
    "    with open(path, 'wb') as f:\n",
    "        pickle.dump({'smiles': smiles, 'labels': labels, 'labels_cols': label_cols}, f)\n",
    "    print(f\"Saved {name} split to path: {path}\")"
   ]
  },
  {
   "cell_type": "code",
   "execution_count": 12,
   "id": "03c1243d",
   "metadata": {},
   "outputs": [
    {
     "name": "stdout",
     "output_type": "stream",
     "text": [
      "Saved train split to path: ./processed_tox21\\tox21_train.pkl\n",
      "Saved validation split to path: ./processed_tox21\\tox21_validation.pkl\n",
      "Saved test split to path: ./processed_tox21\\tox21_test.pkl\n"
     ]
    }
   ],
   "source": [
    "save_split('train', x_train, y_train)\n",
    "save_split('validation', x_val, y_val)\n",
    "save_split('test', x_test, y_test)"
   ]
  },
  {
   "cell_type": "markdown",
   "id": "ffbdf1d4",
   "metadata": {},
   "source": [
    "Verifying saved data"
   ]
  },
  {
   "cell_type": "code",
   "execution_count": 13,
   "id": "2ffea5e3",
   "metadata": {},
   "outputs": [
    {
     "name": "stdout",
     "output_type": "stream",
     "text": [
      "Loaded 6258 training molecules.\n",
      "Example SMILES: COC(=O)[C@H]1CC[C@H](C(=O)OC)CC1\n",
      "Example labels: [0. 0. 0. 0. 0. 0. 0. 0. 0. 0. 0. 0.]\n",
      "Loaded 6258 validation molecules.\n",
      "Example SMILES: COC(=O)[C@H]1CC[C@H](C(=O)OC)CC1\n",
      "Example labels: [0. 0. 0. 0. 0. 0. 0. 0. 0. 0. 0. 0.]\n",
      "Loaded 6258 testing molecules.\n",
      "Example SMILES: COC(=O)[C@H]1CC[C@H](C(=O)OC)CC1\n",
      "Example labels: [0. 0. 0. 0. 0. 0. 0. 0. 0. 0. 0. 0.]\n"
     ]
    }
   ],
   "source": [
    "example = pickle.load(open(os.path.join(CONFIG['output_dir'], 'tox21_train.pkl'), 'rb'))\n",
    "print(f\"Loaded {len(example['smiles'])} training molecules.\")\n",
    "print(\"Example SMILES:\", example['smiles'][0])\n",
    "print(\"Example labels:\", example['labels'][0])\n",
    "\n",
    "print(f\"Loaded {len(example['smiles'])} validation molecules.\")\n",
    "print(\"Example SMILES:\", example['smiles'][0])\n",
    "print(\"Example labels:\", example['labels'][0])\n",
    "\n",
    "print(f\"Loaded {len(example['smiles'])} testing molecules.\")\n",
    "print(\"Example SMILES:\", example['smiles'][0])\n",
    "print(\"Example labels:\", example['labels'][0])"
   ]
  }
 ],
 "metadata": {
  "kernelspec": {
   "display_name": "Python 3",
   "language": "python",
   "name": "python3"
  },
  "language_info": {
   "codemirror_mode": {
    "name": "ipython",
    "version": 3
   },
   "file_extension": ".py",
   "mimetype": "text/x-python",
   "name": "python",
   "nbconvert_exporter": "python",
   "pygments_lexer": "ipython3",
   "version": "3.12.6"
  }
 },
 "nbformat": 4,
 "nbformat_minor": 5
}
